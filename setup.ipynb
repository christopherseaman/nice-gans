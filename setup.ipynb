{
  "nbformat": 4,
  "nbformat_minor": 0,
  "metadata": {
    "kernelspec": {
      "display_name": "Python 3",
      "language": "python",
      "name": "python3"
    },
    "language_info": {
      "codemirror_mode": {
        "name": "ipython",
        "version": 3
      },
      "file_extension": ".py",
      "mimetype": "text/x-python",
      "name": "python",
      "nbconvert_exporter": "python",
      "pygments_lexer": "ipython3",
      "version": "3.6.8"
    },
    "colab": {
      "name": "setup.ipynb",
      "provenance": []
    }
  },
  "cells": [
    {
      "cell_type": "code",
      "metadata": {
        "id": "9-zI2K-xqhqn",
        "outputId": "c9106850-76e5-4034-a4ed-486f67d1aaec",
        "colab": {
          "base_uri": "https://localhost:8080/"
        }
      },
      "source": [
        "import sys\n",
        "%config IPCompleter.greedy = True\n",
        "%config InlineBackend.figure_format = 'retina'\n",
        "print(sys.version)"
      ],
      "execution_count": 1,
      "outputs": [
        {
          "output_type": "stream",
          "text": [
            "3.7.10 (default, Feb 20 2021, 21:17:23) \n",
            "[GCC 7.5.0]\n"
          ],
          "name": "stdout"
        }
      ]
    },
    {
      "cell_type": "code",
      "metadata": {
        "id": "AdeNwo6mqhqt",
        "outputId": "a2e33ff2-2a8b-481a-e9c1-5ef4ab94ea2c",
        "colab": {
          "base_uri": "https://localhost:8080/"
        }
      },
      "source": [
        "system(\"jupyter\" \"notebook\" \"list\")"
      ],
      "execution_count": 2,
      "outputs": [
        {
          "output_type": "execute_result",
          "data": {
            "text/plain": [
              "['Currently running servers:', 'http://172.28.0.2:9000/ :: /']"
            ]
          },
          "metadata": {
            "tags": []
          },
          "execution_count": 2
        }
      ]
    },
    {
      "cell_type": "code",
      "metadata": {
        "id": "ulu3QlVWqhqt"
      },
      "source": [
        "%reload_ext google.cloud.bigquery"
      ],
      "execution_count": 4,
      "outputs": []
    },
    {
      "cell_type": "code",
      "metadata": {
        "id": "Bi6YO7lqqhqu"
      },
      "source": [
        ""
      ],
      "execution_count": null,
      "outputs": []
    },
    {
      "cell_type": "markdown",
      "metadata": {
        "id": "XAKhZoqLqhqu"
      },
      "source": [
        ""
      ]
    }
  ]
}